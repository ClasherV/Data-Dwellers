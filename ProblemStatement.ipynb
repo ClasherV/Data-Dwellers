{
 "cells": [
  {
   "cell_type": "markdown",
   "id": "4a1ee6fa",
   "metadata": {},
   "source": [
    "<h1 style=\"color: cyan;\">AI-based drop-out prediction and counseling system</h1>"
   ]
  },
  {
   "cell_type": "markdown",
   "id": "a63061c9",
   "metadata": {},
   "source": [
    "<h2 style=\"color: orange;\"> <span style=\"color: white;\">Background:</span> By the time term-end marks reveal failures, many struggling students have disengaged beyond recovery. <span style=\"color: cyan;\">Counsellors and mentors</span> need a mechanism that surfaces risk indicators-faliing attendance, high number of attempts exhausted to pass a particular subject, reducing test scores-weeks earlier.</h2>"
   ]
  },
  {
   "cell_type": "markdown",
   "id": "53dd9cc9",
   "metadata": {},
   "source": [
    "<h2 style=\"color: yellow;\"><span style=\"color: white;\">Description:</span> Attendance percentages live in one spreadsheet, test results in another, and fee-payment data in a third. No single view exists to signal that a learner is slipping in multiple areas simultaneously. Commercial analytics platforms promise predictive insights but demand funds and maintenance beyond the reach of public institutes. A simpler, transparent approach would merge existing spreadsheets,apply clear logic to colour-code risk,and notify mentors on a predictable schedule.Such a system must be easy to configure, require minimal training, and empower educators-not replace their judgment. By focusing on data fusion and timely alerts rather than complex algorithms, the institute can intervene early and reduce drop-out rates without fresh budget lines.</h2>"
   ]
  },
  {
   "cell_type": "markdown",
   "id": "ffa06dcf",
   "metadata": {},
   "source": [
    "<h2 style=\"color: DodgerBlue;\">This challenge epitomises the hackathon spirit: take what is already present, integrate it cleverly, and produce meaningful impact using machine learning. </h2>"
   ]
  },
  {
   "cell_type": "markdown",
   "id": "d4c9cfa7",
   "metadata": {},
   "source": [
    "<h2 style=\"color: lime;\"><span style=\"color: white;\">Expected SoIution:</span> Participants are expected to build a consolidated digitaI dashboard that automatically ingests attendance,assessment scores, and other student related dala;<span style=\"color: cyan;\">applies clear, rule-based thresholds to identify at-risk students;</span> highIights them in an intuitive visual format; and dispatches regular notifications to mentors and guardians, <span style=\"color: cyan;\">ensuring early,data-driven intervention achieved entirely through suitable machine learning approaches.</span</h2>"
   ]
  },
  {
   "cell_type": "markdown",
   "id": "a5cd7086",
   "metadata": {},
   "source": []
  }
 ],
 "metadata": {
  "language_info": {
   "name": "python"
  }
 },
 "nbformat": 4,
 "nbformat_minor": 5
}
